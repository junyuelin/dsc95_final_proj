{
 "cells": [
  {
   "cell_type": "markdown",
   "metadata": {
    "id": "y-pI_GOnyjBF",
    "slideshow": {
     "slide_type": "slide"
    }
   },
   "source": [
    "### Table of Contents:\n",
    "* recap: iterable vs iterator\n",
    "* definition of map function\n",
    "* `map()` with different types of iterable\n",
    "* `map()` with explicit function/lambda function\n",
    "* similarity/difference with list comprehension\n",
    "* quiz"
   ]
  },
  {
   "cell_type": "markdown",
   "metadata": {
    "slideshow": {
     "slide_type": "slide"
    }
   },
   "source": [
    "#### What is an Iterable in Python?\n",
    "* an iterable is an object that you can iterate over\n",
    "* Eg. list, tuple, dictionary, set, string\n",
    "* **can’t** use iterables as direct arguments to the `next()` function\n",
    "* in Python, the built-in function `iter()` can take in an iterable and return an iterator"
   ]
  },
  {
   "cell_type": "code",
   "execution_count": 7,
   "metadata": {
    "slideshow": {
     "slide_type": "fragment"
    }
   },
   "outputs": [
    {
     "ename": "TypeError",
     "evalue": "'list' object is not an iterator",
     "output_type": "error",
     "traceback": [
      "\u001b[0;31m---------------------------------------------------------------------------\u001b[0m",
      "\u001b[0;31mTypeError\u001b[0m                                 Traceback (most recent call last)",
      "Cell \u001b[0;32mIn[7], line 3\u001b[0m\n\u001b[1;32m      1\u001b[0m \u001b[38;5;66;03m# can’t use iterables as direct arguments to the next() function\u001b[39;00m\n\u001b[1;32m      2\u001b[0m iterable1 \u001b[38;5;241m=\u001b[39m [\u001b[38;5;241m1\u001b[39m, \u001b[38;5;241m2\u001b[39m, \u001b[38;5;241m3\u001b[39m, \u001b[38;5;241m4\u001b[39m]\n\u001b[0;32m----> 3\u001b[0m \u001b[38;5;28;43mnext\u001b[39;49m\u001b[43m(\u001b[49m\u001b[43miterable1\u001b[49m\u001b[43m)\u001b[49m\n",
      "\u001b[0;31mTypeError\u001b[0m: 'list' object is not an iterator"
     ]
    }
   ],
   "source": [
    "# can’t use iterables as direct arguments to the next() function\n",
    "iterable1 = [1, 2, 3, 4]\n",
    "next(iterable1)"
   ]
  },
  {
   "cell_type": "code",
   "execution_count": 8,
   "metadata": {
    "slideshow": {
     "slide_type": "fragment"
    }
   },
   "outputs": [
    {
     "ename": "TypeError",
     "evalue": "'str' object is not an iterator",
     "output_type": "error",
     "traceback": [
      "\u001b[0;31m---------------------------------------------------------------------------\u001b[0m",
      "\u001b[0;31mTypeError\u001b[0m                                 Traceback (most recent call last)",
      "Cell \u001b[0;32mIn[8], line 3\u001b[0m\n\u001b[1;32m      1\u001b[0m \u001b[38;5;66;03m# can’t use iterables as direct arguments to the next() function\u001b[39;00m\n\u001b[1;32m      2\u001b[0m iterable2 \u001b[38;5;241m=\u001b[39m \u001b[38;5;124m\"\u001b[39m\u001b[38;5;124mABCD\u001b[39m\u001b[38;5;124m\"\u001b[39m\n\u001b[0;32m----> 3\u001b[0m \u001b[38;5;28;43mnext\u001b[39;49m\u001b[43m(\u001b[49m\u001b[43miterable2\u001b[49m\u001b[43m)\u001b[49m\n",
      "\u001b[0;31mTypeError\u001b[0m: 'str' object is not an iterator"
     ]
    }
   ],
   "source": [
    "# can’t use iterables as direct arguments to the next() function\n",
    "iterable2 = \"ABCD\"\n",
    "next(iterable2)"
   ]
  },
  {
   "cell_type": "markdown",
   "metadata": {
    "slideshow": {
     "slide_type": "slide"
    }
   },
   "source": [
    "* if you want a quick way to determine whether an object is iterable, then pass it as an argument to `iter()`. \n",
    "* If you get an iterator back, then your object is iterable. \n",
    "* If you get an error, then the object isn’t iterable"
   ]
  },
  {
   "cell_type": "code",
   "execution_count": 9,
   "metadata": {
    "slideshow": {
     "slide_type": "fragment"
    }
   },
   "outputs": [
    {
     "data": {
      "text/plain": [
       "<list_iterator at 0x1044b5400>"
      ]
     },
     "execution_count": 9,
     "metadata": {},
     "output_type": "execute_result"
    }
   ],
   "source": [
    "# in Python, the built-in function iter() can take in an iterable \n",
    "# and return an iterator\n",
    "iterable1 = [1, 2, 3, 4]\n",
    "iter(iterable1)"
   ]
  },
  {
   "cell_type": "code",
   "execution_count": 10,
   "metadata": {
    "slideshow": {
     "slide_type": "fragment"
    }
   },
   "outputs": [
    {
     "ename": "TypeError",
     "evalue": "'int' object is not iterable",
     "output_type": "error",
     "traceback": [
      "\u001b[0;31m---------------------------------------------------------------------------\u001b[0m",
      "\u001b[0;31mTypeError\u001b[0m                                 Traceback (most recent call last)",
      "Cell \u001b[0;32mIn[10], line 2\u001b[0m\n\u001b[1;32m      1\u001b[0m \u001b[38;5;66;03m# If you get an error, then the object isn’t iterable\u001b[39;00m\n\u001b[0;32m----> 2\u001b[0m \u001b[38;5;28;43miter\u001b[39;49m\u001b[43m(\u001b[49m\u001b[38;5;241;43m42\u001b[39;49m\u001b[43m)\u001b[49m\n",
      "\u001b[0;31mTypeError\u001b[0m: 'int' object is not iterable"
     ]
    }
   ],
   "source": [
    "# If you get an error, then the object isn’t iterable\n",
    "iter(42)"
   ]
  },
  {
   "cell_type": "markdown",
   "metadata": {
    "slideshow": {
     "slide_type": "slide"
    }
   },
   "source": [
    "#### What is an Iterator in Python?\n",
    "* return the data from a stream or container **one item at a time**"
   ]
  },
  {
   "cell_type": "markdown",
   "metadata": {},
   "source": [
    "To learn more about iterator and iterables, check out [Iterators and Iterables in Python](https://realpython.com/python-iterators-iterables/)"
   ]
  },
  {
   "cell_type": "markdown",
   "metadata": {
    "slideshow": {
     "slide_type": "slide"
    }
   },
   "source": [
    "#### Definition of map Function\n",
    "* sytax: `map(function, iterable1, iterable2, ...) -> iterator`\n",
    "* takes in a function and one or more iterables\n",
    "* returns an iterator called a map object\n",
    "* how to obtain values from `map()`, Eg. `list()` or `next()`"
   ]
  },
  {
   "cell_type": "code",
   "execution_count": 1,
   "metadata": {
    "id": "gbpQmEeoyPc3",
    "slideshow": {
     "slide_type": "fragment"
    }
   },
   "outputs": [
    {
     "data": {
      "text/plain": [
       "<map at 0x1080c9580>"
      ]
     },
     "execution_count": 1,
     "metadata": {},
     "output_type": "execute_result"
    }
   ],
   "source": [
    "# sytax: map(function, iterable1, iterable2, ...) -> iterator\n",
    "nums1 = [1, 2, 3]\n",
    "nums2 = [4, 5, 6]\n",
    "map1 = map(lambda x, y: x + y, nums1, nums2)\n",
    "map1"
   ]
  },
  {
   "cell_type": "code",
   "execution_count": 2,
   "metadata": {
    "colab": {
     "base_uri": "https://localhost:8080/"
    },
    "id": "zyr_Z5yhyWFB",
    "outputId": "21c25500-b441-4279-fc80-42664c4b582a",
    "slideshow": {
     "slide_type": "fragment"
    }
   },
   "outputs": [
    {
     "name": "stdout",
     "output_type": "stream",
     "text": [
      "5\n",
      "7\n",
      "9\n"
     ]
    }
   ],
   "source": [
    "print(next(map1)) # 1+4\n",
    "print(next(map1)) # 2+5\n",
    "print(next(map1)) # 3+6"
   ]
  },
  {
   "cell_type": "markdown",
   "metadata": {},
   "source": [
    "* since the iterator is exhausted, meaning there is no more element to iteratre, next() would output an error\n",
    "* note that there is no way to access consumed values; you have to create a completely new iterator to iterate through values again"
   ]
  },
  {
   "cell_type": "code",
   "execution_count": 3,
   "metadata": {
    "scrolled": true,
    "slideshow": {
     "slide_type": "fragment"
    }
   },
   "outputs": [
    {
     "ename": "StopIteration",
     "evalue": "",
     "output_type": "error",
     "traceback": [
      "\u001b[0;31m---------------------------------------------------------------------------\u001b[0m",
      "\u001b[0;31mStopIteration\u001b[0m                             Traceback (most recent call last)",
      "Cell \u001b[0;32mIn[3], line 1\u001b[0m\n\u001b[0;32m----> 1\u001b[0m \u001b[38;5;28;43mnext\u001b[39;49m\u001b[43m(\u001b[49m\u001b[43mmap1\u001b[49m\u001b[43m)\u001b[49m\n",
      "\u001b[0;31mStopIteration\u001b[0m: "
     ]
    }
   ],
   "source": [
    "next(map1)"
   ]
  },
  {
   "cell_type": "code",
   "execution_count": 3,
   "metadata": {
    "slideshow": {
     "slide_type": "notes"
    }
   },
   "outputs": [],
   "source": [
    "# Animations\n",
    "import time\n",
    "from IPython.display import display, HTML, IFrame, clear_output\n",
    "import ipywidgets as widgets\n",
    "def show_map_slides():\n",
    "    src = \"https://docs.google.com/presentation/d/e/2PACX-1vSuBCzAYvrIO4YpWpH5MfbkooWzFncxMythw9LQRuXMLch0rWYi155lPk6LZ08jc5vi-fgqUgSxQnIb/embed?start=true&loop=false&delayms=3000\"\n",
    "    width = 960\n",
    "    height = 509\n",
    "    display(IFrame(src, width, height))"
   ]
  },
  {
   "cell_type": "code",
   "execution_count": 4,
   "metadata": {
    "scrolled": false,
    "slideshow": {
     "slide_type": "slide"
    }
   },
   "outputs": [
    {
     "data": {
      "text/html": [
       "\n",
       "        <iframe\n",
       "            width=\"960\"\n",
       "            height=\"509\"\n",
       "            src=\"https://docs.google.com/presentation/d/e/2PACX-1vSuBCzAYvrIO4YpWpH5MfbkooWzFncxMythw9LQRuXMLch0rWYi155lPk6LZ08jc5vi-fgqUgSxQnIb/embed?start=true&loop=false&delayms=3000\"\n",
       "            frameborder=\"0\"\n",
       "            allowfullscreen\n",
       "            \n",
       "        ></iframe>\n",
       "        "
      ],
      "text/plain": [
       "<IPython.lib.display.IFrame at 0x106c3dc10>"
      ]
     },
     "metadata": {},
     "output_type": "display_data"
    }
   ],
   "source": [
    "show_map_slides()"
   ]
  },
  {
   "cell_type": "code",
   "execution_count": 4,
   "metadata": {
    "slideshow": {
     "slide_type": "fragment"
    }
   },
   "outputs": [
    {
     "name": "stdout",
     "output_type": "stream",
     "text": [
      "[5, 7, 9]\n",
      "[]\n"
     ]
    }
   ],
   "source": [
    "# it is important to notice that map() returns an iterator\n",
    "map2 = map(lambda x, y: x + y, nums1, nums2)\n",
    "print(list(map2))\n",
    "print(list(map2))"
   ]
  },
  {
   "cell_type": "code",
   "execution_count": 5,
   "metadata": {
    "scrolled": true,
    "slideshow": {
     "slide_type": "slide"
    }
   },
   "outputs": [
    {
     "data": {
      "text/plain": [
       "<map at 0x1082327f0>"
      ]
     },
     "execution_count": 5,
     "metadata": {},
     "output_type": "execute_result"
    }
   ],
   "source": [
    "# iterator doesn't stop at errors\n",
    "nums1 = [1, 3, 4]\n",
    "nums3 = [4,'f', 6]\n",
    "map7 = map(lambda x, y: x + y, nums1, nums3)\n",
    "map7"
   ]
  },
  {
   "cell_type": "code",
   "execution_count": 6,
   "metadata": {
    "scrolled": true,
    "slideshow": {
     "slide_type": "fragment"
    }
   },
   "outputs": [
    {
     "name": "stdout",
     "output_type": "stream",
     "text": [
      "5\n"
     ]
    }
   ],
   "source": [
    "print(next(map7))"
   ]
  },
  {
   "cell_type": "code",
   "execution_count": 7,
   "metadata": {
    "slideshow": {
     "slide_type": "fragment"
    }
   },
   "outputs": [
    {
     "ename": "TypeError",
     "evalue": "unsupported operand type(s) for +: 'int' and 'str'",
     "output_type": "error",
     "traceback": [
      "\u001b[0;31m---------------------------------------------------------------------------\u001b[0m",
      "\u001b[0;31mTypeError\u001b[0m                                 Traceback (most recent call last)",
      "Cell \u001b[0;32mIn[7], line 1\u001b[0m\n\u001b[0;32m----> 1\u001b[0m \u001b[38;5;28mprint\u001b[39m(\u001b[38;5;28;43mnext\u001b[39;49m\u001b[43m(\u001b[49m\u001b[43mmap7\u001b[49m\u001b[43m)\u001b[49m)\n",
      "Cell \u001b[0;32mIn[5], line 4\u001b[0m, in \u001b[0;36m<lambda>\u001b[0;34m(x, y)\u001b[0m\n\u001b[1;32m      2\u001b[0m nums1 \u001b[38;5;241m=\u001b[39m [\u001b[38;5;241m1\u001b[39m, \u001b[38;5;241m3\u001b[39m, \u001b[38;5;241m4\u001b[39m]\n\u001b[1;32m      3\u001b[0m nums3 \u001b[38;5;241m=\u001b[39m [\u001b[38;5;241m4\u001b[39m,\u001b[38;5;124m'\u001b[39m\u001b[38;5;124mf\u001b[39m\u001b[38;5;124m'\u001b[39m, \u001b[38;5;241m6\u001b[39m]\n\u001b[0;32m----> 4\u001b[0m map7 \u001b[38;5;241m=\u001b[39m \u001b[38;5;28mmap\u001b[39m(\u001b[38;5;28;01mlambda\u001b[39;00m x, y: \u001b[43mx\u001b[49m\u001b[43m \u001b[49m\u001b[38;5;241;43m+\u001b[39;49m\u001b[43m \u001b[49m\u001b[43my\u001b[49m, nums1, nums3)\n\u001b[1;32m      5\u001b[0m map7\n",
      "\u001b[0;31mTypeError\u001b[0m: unsupported operand type(s) for +: 'int' and 'str'"
     ]
    }
   ],
   "source": [
    "print(next(map7))"
   ]
  },
  {
   "cell_type": "code",
   "execution_count": 8,
   "metadata": {
    "slideshow": {
     "slide_type": "fragment"
    }
   },
   "outputs": [
    {
     "name": "stdout",
     "output_type": "stream",
     "text": [
      "10\n"
     ]
    }
   ],
   "source": [
    "# note: even though the previous step outputs error, \n",
    "# we can still continue to iterate!\n",
    "print(next(map7))"
   ]
  },
  {
   "cell_type": "markdown",
   "metadata": {},
   "source": [
    "To obtain values from the iterator, you need to either iterate over it or use `list()`"
   ]
  },
  {
   "cell_type": "code",
   "execution_count": 1,
   "metadata": {},
   "outputs": [
    {
     "name": "stdout",
     "output_type": "stream",
     "text": [
      "5\n",
      "7\n",
      "9\n"
     ]
    }
   ],
   "source": [
    "# iterator over the iterator\n",
    "nums1 = [1, 2, 3]\n",
    "nums2 = [4, 5, 6]\n",
    "map8 = map(lambda x, y: x + y, nums1, nums2)\n",
    "for i in map8:\n",
    "    print(i)"
   ]
  },
  {
   "cell_type": "code",
   "execution_count": 2,
   "metadata": {},
   "outputs": [
    {
     "data": {
      "text/plain": [
       "[5, 7, 9]"
      ]
     },
     "execution_count": 2,
     "metadata": {},
     "output_type": "execute_result"
    }
   ],
   "source": [
    "# use list()\n",
    "map8 = map(lambda x, y: x + y, nums1, nums2)\n",
    "list(map8)"
   ]
  },
  {
   "cell_type": "markdown",
   "metadata": {
    "slideshow": {
     "slide_type": "slide"
    }
   },
   "source": [
    "#### map() with Different Types of Iterable\n",
    "* Iterables are objects that can be iterated in iterations.\n",
    "* Iterable in Python: list, tuple, set, dictionary, string, etc\n",
    "* `map()` could take in iterables, like list, tuple, set, dictionary, string, etc"
   ]
  },
  {
   "cell_type": "code",
   "execution_count": 16,
   "metadata": {
    "slideshow": {
     "slide_type": "fragment"
    }
   },
   "outputs": [
    {
     "name": "stdout",
     "output_type": "stream",
     "text": [
      "['HI', 'HELLO']\n"
     ]
    }
   ],
   "source": [
    "# map with dictionary as input\n",
    "dict1={'hi': 1, 'hello': 2}\n",
    "map5=list(map(lambda x: x.upper(), dict1))\n",
    "print(map5)"
   ]
  },
  {
   "cell_type": "code",
   "execution_count": 17,
   "metadata": {
    "slideshow": {
     "slide_type": "fragment"
    }
   },
   "outputs": [
    {
     "name": "stdout",
     "output_type": "stream",
     "text": [
      "['A', 'B', 'C', 'D', 'E', 'F', 'G']\n"
     ]
    }
   ],
   "source": [
    "# map with string as input\n",
    "str1 = 'abcdefg'\n",
    "map6=list(map(lambda x: x.upper(), str1))\n",
    "print(map6)"
   ]
  },
  {
   "cell_type": "markdown",
   "metadata": {
    "slideshow": {
     "slide_type": "slide"
    }
   },
   "source": [
    "#### map() with Explicit Function/Lambda Function\n",
    "* `map()` could take in an explicit function or a lambda function"
   ]
  },
  {
   "cell_type": "code",
   "execution_count": 9,
   "metadata": {
    "scrolled": true,
    "slideshow": {
     "slide_type": "fragment"
    }
   },
   "outputs": [
    {
     "name": "stdout",
     "output_type": "stream",
     "text": [
      "[5, 7, 9]\n"
     ]
    }
   ],
   "source": [
    "# lambda function\n",
    "nums1 = [1, 2, 3]\n",
    "nums2 = [4, 5, 6]\n",
    "map1 = map(lambda x, y: x + y, nums1, nums2)\n",
    "print(list(map1))"
   ]
  },
  {
   "cell_type": "code",
   "execution_count": 10,
   "metadata": {
    "slideshow": {
     "slide_type": "fragment"
    }
   },
   "outputs": [
    {
     "name": "stdout",
     "output_type": "stream",
     "text": [
      "[5, 7, 9]\n"
     ]
    }
   ],
   "source": [
    "# explicit function\n",
    "def func(x, y):\n",
    "    return x+y\n",
    "map3 = map(func, nums1, nums2)\n",
    "print(list(map3))"
   ]
  },
  {
   "cell_type": "markdown",
   "metadata": {},
   "source": [
    "`map()` with **explicit function** would be faster than `map()` with **lambda function** because the function is defined ahead of time"
   ]
  },
  {
   "cell_type": "code",
   "execution_count": 31,
   "metadata": {},
   "outputs": [
    {
     "name": "stdout",
     "output_type": "stream",
     "text": [
      " time map function with explicit function: 1.5946937500266358\n",
      " time map function with lambda funcion: 1.6084509160136804\n"
     ]
    }
   ],
   "source": [
    "import timeit \n",
    "# map function \n",
    "f1= 'def num(n) : return n' \n",
    "m1 = timeit.timeit( 'sum(map(num, range(50)))' , number = 999999, setup = f1 )  \n",
    "print (f' time map function with explicit function: {m1}') \n",
    "m2 = timeit.timeit( 'sum(map(lambda x: x, range(50)))' , number = 999999)  \n",
    "print (f' time map function with lambda funcion: {m2}') "
   ]
  },
  {
   "cell_type": "markdown",
   "metadata": {
    "slideshow": {
     "slide_type": "slide"
    }
   },
   "source": [
    "#### Similarity/Difference with List Comprehension\n",
    "Similarity: \n",
    "- apply changes to every item in the iterable\n",
    "\n",
    "\n",
    "Difference:\n",
    "- sytax difference\n",
    "    - list comprehension is more readable\n",
    "    - list comprehension can only loop through one iterable in a loop whereas `map()` could take in more than one iterables\n",
    "    - list comprehension returns a list whereas `map()` returns an iterator\n",
    "- time efficiency\n",
    "- memory efficiency"
   ]
  },
  {
   "cell_type": "markdown",
   "metadata": {},
   "source": [
    "sytax for list comprehension: `newList = [expression for item in iterable] -> list`"
   ]
  },
  {
   "cell_type": "code",
   "execution_count": 11,
   "metadata": {
    "slideshow": {
     "slide_type": "slide"
    }
   },
   "outputs": [
    {
     "data": {
      "text/plain": [
       "[1, 4, 9]"
      ]
     },
     "execution_count": 11,
     "metadata": {},
     "output_type": "execute_result"
    }
   ],
   "source": [
    "# list comprehension can only loop through one iterable\n",
    "list_comprehension1 = [x*x for x in (1, 2, 3)]\n",
    "list_comprehension1"
   ]
  },
  {
   "cell_type": "code",
   "execution_count": 12,
   "metadata": {
    "slideshow": {
     "slide_type": "fragment"
    }
   },
   "outputs": [
    {
     "data": {
      "text/plain": [
       "[6, 15, 15]"
      ]
     },
     "execution_count": 12,
     "metadata": {},
     "output_type": "execute_result"
    }
   ],
   "source": [
    "# list comprehension can only loop through one iterable\n",
    "list_comprehension2 = [x + y + z for x, y, z in ((1, 2, 3), (4, 5, 6), (4, 5, 6))]\n",
    "list_comprehension2"
   ]
  },
  {
   "cell_type": "code",
   "execution_count": 13,
   "metadata": {
    "id": "MRGUsejTydPa",
    "slideshow": {
     "slide_type": "fragment"
    }
   },
   "outputs": [
    {
     "data": {
      "text/plain": [
       "[9, 12, 15]"
      ]
     },
     "execution_count": 13,
     "metadata": {},
     "output_type": "execute_result"
    }
   ],
   "source": [
    "# whereas map() could take in more than one iterables\n",
    "map4 = map(lambda x, y, z: x + y + z, [1, 2, 3], (4, 5, 6), (4, 5, 6))\n",
    "list(map4)"
   ]
  },
  {
   "cell_type": "code",
   "execution_count": 14,
   "metadata": {
    "slideshow": {
     "slide_type": "fragment"
    }
   },
   "outputs": [
    {
     "name": "stdout",
     "output_type": "stream",
     "text": [
      "the return type of list comprehension is <class 'list'>\n",
      "the return type of map() is <class 'map'>\n"
     ]
    }
   ],
   "source": [
    "# list comprehension returns a list whereas map() returns an iterable\n",
    "print(f'the return type of list comprehension is {type(list_comprehension2)}')\n",
    "print(f'the return type of map() is {type(map4)}')"
   ]
  },
  {
   "cell_type": "markdown",
   "metadata": {},
   "source": [
    "* if we ignore the laziness of `map()` and a list output is preferred, `map()` needs to take the extra step to turn the iterator object into a list\n",
    "* note `map()` with **lambda function** is generally **slower** than **list comprehension** in most cases, assuming all values are evaluated/used \n",
    "* `map()` with **explicit function** would be **slower** than list comprehension if using a simple customer function where list comprehension could use a simple expression\n",
    "* however, `map()` with **explicit function** would be **faster** than list comprehension if using a built-in function, like `sum()` and `sqrt()`"
   ]
  },
  {
   "cell_type": "code",
   "execution_count": 42,
   "metadata": {},
   "outputs": [
    {
     "name": "stdout",
     "output_type": "stream",
     "text": [
      " time map function with explicit function: 0.5850220000138506\n",
      " time map function with lambda funcion: 0.6170097090071067\n",
      " time list comprehension: 0.46064204099820927\n"
     ]
    }
   ],
   "source": [
    "import random\n",
    "txns = [random.randrange(100) for _ in range(100000)]\n",
    "TAX_RATE = .08\n",
    "\n",
    "# using simple custom function\n",
    "def get_price(txn):\n",
    "    return txn * (1 + TAX_RATE)\n",
    "def get_prices_with_map_explicit():\n",
    "    return list(map(get_price, txns))\n",
    "def get_prices_with_map_lambda():\n",
    "    return list(map(lambda x: x * (1+TAX_RATE), txns))\n",
    "def get_prices_with_comprehension():\n",
    "    return [txn * (1+TAX_RATE) for txn in txns]\n",
    "\n",
    "m1 = timeit.timeit(get_prices_with_map_explicit, number=100)\n",
    "print(f' time map function with explicit function: {m1}')\n",
    "m2 = timeit.timeit(get_prices_with_map_lambda, number=100)\n",
    "print(f' time map function with lambda funcion: {m2}')\n",
    "l1 = timeit.timeit(get_prices_with_comprehension, number=100)\n",
    "print(f' time list comprehension: {l1}')"
   ]
  },
  {
   "cell_type": "code",
   "execution_count": 43,
   "metadata": {},
   "outputs": [
    {
     "name": "stdout",
     "output_type": "stream",
     "text": [
      " time map function with explicit function: 2.171375041012652\n",
      " time list comprehension: 3.825500999984797\n"
     ]
    }
   ],
   "source": [
    "from math import sqrt\n",
    "\n",
    "NUMBERS = range(1_000_001)\n",
    "\n",
    "# using built-in function\n",
    "def map_sqrt():\n",
    "    return list(map(abs, NUMBERS))\n",
    "\n",
    "def comprehension_sqrt():\n",
    "    return [abs(x) for x in NUMBERS]\n",
    "\n",
    "m1 = timeit.timeit(map_sqrt, number=100)\n",
    "print(f' time map function with explicit function: {m1}')\n",
    "l1 = timeit.timeit(comprehension_sqrt, number=100)\n",
    "print(f' time list comprehension: {l1}')"
   ]
  },
  {
   "cell_type": "code",
   "execution_count": null,
   "metadata": {},
   "outputs": [],
   "source": []
  }
 ],
 "metadata": {
  "celltoolbar": "Slideshow",
  "colab": {
   "provenance": []
  },
  "kernelspec": {
   "display_name": "Python 3 (ipykernel)",
   "language": "python",
   "name": "python3"
  },
  "language_info": {
   "codemirror_mode": {
    "name": "ipython",
    "version": 3
   },
   "file_extension": ".py",
   "mimetype": "text/x-python",
   "name": "python",
   "nbconvert_exporter": "python",
   "pygments_lexer": "ipython3",
   "version": "3.8.18"
  },
  "toc": {
   "base_numbering": 1,
   "nav_menu": {},
   "number_sections": true,
   "sideBar": true,
   "skip_h1_title": false,
   "title_cell": "Table of Contents",
   "title_sidebar": "Contents",
   "toc_cell": false,
   "toc_position": {},
   "toc_section_display": true,
   "toc_window_display": false
  }
 },
 "nbformat": 4,
 "nbformat_minor": 1
}
