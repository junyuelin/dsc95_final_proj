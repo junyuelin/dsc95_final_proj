{
 "cells": [
  {
   "cell_type": "markdown",
   "metadata": {
    "id": "y-pI_GOnyjBF",
    "slideshow": {
     "slide_type": "slide"
    }
   },
   "source": [
    "### Map Function:\n",
    "* definition of map function\n",
    "* map() with explicit function/lambda function\n",
    "* map() with different types of iterable\n",
    "* similarity/difference with list comprehension/loops"
   ]
  },
  {
   "cell_type": "markdown",
   "metadata": {
    "slideshow": {
     "slide_type": "slide"
    }
   },
   "source": [
    "#### definition of map function\n",
    "* takes in a function and one or more iterables\n",
    "* returns an iterator\n",
    "* how to use map(): list() or next() TODO!"
   ]
  },
  {
   "cell_type": "code",
   "execution_count": 1,
   "metadata": {
    "id": "gbpQmEeoyPc3",
    "slideshow": {
     "slide_type": "fragment"
    }
   },
   "outputs": [
    {
     "data": {
      "text/plain": [
       "<map at 0x1080c9580>"
      ]
     },
     "execution_count": 1,
     "metadata": {},
     "output_type": "execute_result"
    }
   ],
   "source": [
    "# sytax: map(function, iterable1, iterable2, ...) -> iterator\n",
    "nums1 = [1, 2, 3]\n",
    "nums2 = [4, 5, 6]\n",
    "map1 = map(lambda x, y: x + y, nums1, nums2)\n",
    "map1"
   ]
  },
  {
   "cell_type": "code",
   "execution_count": 2,
   "metadata": {
    "colab": {
     "base_uri": "https://localhost:8080/"
    },
    "id": "zyr_Z5yhyWFB",
    "outputId": "21c25500-b441-4279-fc80-42664c4b582a",
    "slideshow": {
     "slide_type": "fragment"
    }
   },
   "outputs": [
    {
     "name": "stdout",
     "output_type": "stream",
     "text": [
      "5\n",
      "7\n",
      "9\n"
     ]
    }
   ],
   "source": [
    "print(next(map1)) # 1+4\n",
    "print(next(map1)) # 2+5\n",
    "print(next(map1)) # 3+6"
   ]
  },
  {
   "cell_type": "code",
   "execution_count": 3,
   "metadata": {
    "scrolled": true,
    "slideshow": {
     "slide_type": "fragment"
    }
   },
   "outputs": [
    {
     "ename": "StopIteration",
     "evalue": "",
     "output_type": "error",
     "traceback": [
      "\u001b[0;31m---------------------------------------------------------------------------\u001b[0m",
      "\u001b[0;31mStopIteration\u001b[0m                             Traceback (most recent call last)",
      "Cell \u001b[0;32mIn[3], line 1\u001b[0m\n\u001b[0;32m----> 1\u001b[0m \u001b[38;5;28;43mnext\u001b[39;49m\u001b[43m(\u001b[49m\u001b[43mmap1\u001b[49m\u001b[43m)\u001b[49m\n",
      "\u001b[0;31mStopIteration\u001b[0m: "
     ]
    }
   ],
   "source": [
    "# since there is no more element to iteratre, next() would output an error\n",
    "next(map1)"
   ]
  },
  {
   "cell_type": "code",
   "execution_count": 3,
   "metadata": {
    "slideshow": {
     "slide_type": "notes"
    }
   },
   "outputs": [],
   "source": [
    "# Animations\n",
    "import time\n",
    "from IPython.display import display, HTML, IFrame, clear_output\n",
    "import ipywidgets as widgets\n",
    "def show_map_slides():\n",
    "    src = \"https://docs.google.com/presentation/d/e/2PACX-1vSuBCzAYvrIO4YpWpH5MfbkooWzFncxMythw9LQRuXMLch0rWYi155lPk6LZ08jc5vi-fgqUgSxQnIb/embed?start=true&loop=false&delayms=3000\"\n",
    "    width = 960\n",
    "    height = 509\n",
    "    display(IFrame(src, width, height))"
   ]
  },
  {
   "cell_type": "code",
   "execution_count": 4,
   "metadata": {
    "slideshow": {
     "slide_type": "slide"
    }
   },
   "outputs": [
    {
     "data": {
      "text/html": [
       "\n",
       "        <iframe\n",
       "            width=\"960\"\n",
       "            height=\"509\"\n",
       "            src=\"https://docs.google.com/presentation/d/e/2PACX-1vSuBCzAYvrIO4YpWpH5MfbkooWzFncxMythw9LQRuXMLch0rWYi155lPk6LZ08jc5vi-fgqUgSxQnIb/embed?start=true&loop=false&delayms=3000\"\n",
       "            frameborder=\"0\"\n",
       "            allowfullscreen\n",
       "            \n",
       "        ></iframe>\n",
       "        "
      ],
      "text/plain": [
       "<IPython.lib.display.IFrame at 0x106c3dc10>"
      ]
     },
     "metadata": {},
     "output_type": "display_data"
    }
   ],
   "source": [
    "show_map_slides()"
   ]
  },
  {
   "cell_type": "code",
   "execution_count": 4,
   "metadata": {
    "slideshow": {
     "slide_type": "fragment"
    }
   },
   "outputs": [
    {
     "name": "stdout",
     "output_type": "stream",
     "text": [
      "[5, 7, 9]\n",
      "[]\n"
     ]
    }
   ],
   "source": [
    "# it is important to notice that map() returns an iterator\n",
    "map2 = map(lambda x, y: x + y, nums1, nums2)\n",
    "print(list(map2))\n",
    "print(list(map2))"
   ]
  },
  {
   "cell_type": "code",
   "execution_count": 5,
   "metadata": {
    "scrolled": true,
    "slideshow": {
     "slide_type": "slide"
    }
   },
   "outputs": [
    {
     "data": {
      "text/plain": [
       "<map at 0x1082327f0>"
      ]
     },
     "execution_count": 5,
     "metadata": {},
     "output_type": "execute_result"
    }
   ],
   "source": [
    "# iterator doesn't stop at errors\n",
    "nums1 = [1, 3, 4]\n",
    "nums3 = [4,'f', 6]\n",
    "map7 = map(lambda x, y: x + y, nums1, nums3)\n",
    "map7"
   ]
  },
  {
   "cell_type": "code",
   "execution_count": 6,
   "metadata": {
    "scrolled": true,
    "slideshow": {
     "slide_type": "fragment"
    }
   },
   "outputs": [
    {
     "name": "stdout",
     "output_type": "stream",
     "text": [
      "5\n"
     ]
    }
   ],
   "source": [
    "print(next(map7))"
   ]
  },
  {
   "cell_type": "code",
   "execution_count": 7,
   "metadata": {
    "slideshow": {
     "slide_type": "fragment"
    }
   },
   "outputs": [
    {
     "ename": "TypeError",
     "evalue": "unsupported operand type(s) for +: 'int' and 'str'",
     "output_type": "error",
     "traceback": [
      "\u001b[0;31m---------------------------------------------------------------------------\u001b[0m",
      "\u001b[0;31mTypeError\u001b[0m                                 Traceback (most recent call last)",
      "Cell \u001b[0;32mIn[7], line 1\u001b[0m\n\u001b[0;32m----> 1\u001b[0m \u001b[38;5;28mprint\u001b[39m(\u001b[38;5;28;43mnext\u001b[39;49m\u001b[43m(\u001b[49m\u001b[43mmap7\u001b[49m\u001b[43m)\u001b[49m)\n",
      "Cell \u001b[0;32mIn[5], line 4\u001b[0m, in \u001b[0;36m<lambda>\u001b[0;34m(x, y)\u001b[0m\n\u001b[1;32m      2\u001b[0m nums1 \u001b[38;5;241m=\u001b[39m [\u001b[38;5;241m1\u001b[39m, \u001b[38;5;241m3\u001b[39m, \u001b[38;5;241m4\u001b[39m]\n\u001b[1;32m      3\u001b[0m nums3 \u001b[38;5;241m=\u001b[39m [\u001b[38;5;241m4\u001b[39m,\u001b[38;5;124m'\u001b[39m\u001b[38;5;124mf\u001b[39m\u001b[38;5;124m'\u001b[39m, \u001b[38;5;241m6\u001b[39m]\n\u001b[0;32m----> 4\u001b[0m map7 \u001b[38;5;241m=\u001b[39m \u001b[38;5;28mmap\u001b[39m(\u001b[38;5;28;01mlambda\u001b[39;00m x, y: \u001b[43mx\u001b[49m\u001b[43m \u001b[49m\u001b[38;5;241;43m+\u001b[39;49m\u001b[43m \u001b[49m\u001b[43my\u001b[49m, nums1, nums3)\n\u001b[1;32m      5\u001b[0m map7\n",
      "\u001b[0;31mTypeError\u001b[0m: unsupported operand type(s) for +: 'int' and 'str'"
     ]
    }
   ],
   "source": [
    "print(next(map7))"
   ]
  },
  {
   "cell_type": "code",
   "execution_count": 8,
   "metadata": {
    "slideshow": {
     "slide_type": "fragment"
    }
   },
   "outputs": [
    {
     "name": "stdout",
     "output_type": "stream",
     "text": [
      "10\n"
     ]
    }
   ],
   "source": [
    "# note: even though the previous step outputs error, we can still continue to iterate!\n",
    "print(next(map7))"
   ]
  },
  {
   "cell_type": "markdown",
   "metadata": {
    "slideshow": {
     "slide_type": "slide"
    }
   },
   "source": [
    "#### map() with explicit function/lambda function\n",
    "* map() could take in an explicit function or a lambda function"
   ]
  },
  {
   "cell_type": "code",
   "execution_count": 9,
   "metadata": {
    "scrolled": true,
    "slideshow": {
     "slide_type": "fragment"
    }
   },
   "outputs": [
    {
     "name": "stdout",
     "output_type": "stream",
     "text": [
      "[5, 7, 9]\n"
     ]
    }
   ],
   "source": [
    "# lambda function\n",
    "nums1 = [1, 2, 3]\n",
    "nums2 = [4, 5, 6]\n",
    "map1 = map(lambda x, y: x + y, nums1, nums2)\n",
    "print(list(map1))"
   ]
  },
  {
   "cell_type": "code",
   "execution_count": 10,
   "metadata": {
    "slideshow": {
     "slide_type": "fragment"
    }
   },
   "outputs": [
    {
     "name": "stdout",
     "output_type": "stream",
     "text": [
      "[5, 7, 9]\n"
     ]
    }
   ],
   "source": [
    "# explicit function\n",
    "def func(x, y):\n",
    "    return x+y\n",
    "map3 = map(func, nums1, nums2)\n",
    "print(list(map3))"
   ]
  },
  {
   "cell_type": "markdown",
   "metadata": {
    "slideshow": {
     "slide_type": "slide"
    }
   },
   "source": [
    "#### similarity/difference with list comprehension/loops\n",
    "similarity: \n",
    "- apply changes to every item in the iterable\n",
    "\n",
    "\n",
    "difference:\n",
    "- list comprehension is more readable\n",
    "- list comprehension can only loop through one iterable in a loop whereas map() could take in more than one iterables\n",
    "- list comprehension returns a list whereas map() returns an iterable\n",
    "- map function is slower than the list comprehension in general"
   ]
  },
  {
   "cell_type": "code",
   "execution_count": 11,
   "metadata": {
    "slideshow": {
     "slide_type": "slide"
    }
   },
   "outputs": [
    {
     "data": {
      "text/plain": [
       "[1, 4, 9]"
      ]
     },
     "execution_count": 11,
     "metadata": {},
     "output_type": "execute_result"
    }
   ],
   "source": [
    "# sytax for list comprehension: newList = [expression for item in iterable] -> list\n",
    "# list comprehension can only loop through one iterable\n",
    "list_comprehension1 = [x*x for x in (1, 2, 3)]\n",
    "list_comprehension1"
   ]
  },
  {
   "cell_type": "code",
   "execution_count": 12,
   "metadata": {
    "slideshow": {
     "slide_type": "fragment"
    }
   },
   "outputs": [
    {
     "data": {
      "text/plain": [
       "[6, 15, 15]"
      ]
     },
     "execution_count": 12,
     "metadata": {},
     "output_type": "execute_result"
    }
   ],
   "source": [
    "# list comprehension can only loop through one iterable\n",
    "list_comprehension2 = [x + y + z for x, y, z in ((1, 2, 3), (4, 5, 6), (4, 5, 6))]\n",
    "list_comprehension2"
   ]
  },
  {
   "cell_type": "code",
   "execution_count": 13,
   "metadata": {
    "id": "MRGUsejTydPa",
    "slideshow": {
     "slide_type": "fragment"
    }
   },
   "outputs": [
    {
     "data": {
      "text/plain": [
       "[9, 12, 15]"
      ]
     },
     "execution_count": 13,
     "metadata": {},
     "output_type": "execute_result"
    }
   ],
   "source": [
    "# whereas map() could take in more than one iterables\n",
    "map4 = map(lambda x, y, z: x + y + z, [1, 2, 3], (4, 5, 6), (4, 5, 6))\n",
    "list(map4)"
   ]
  },
  {
   "cell_type": "code",
   "execution_count": 14,
   "metadata": {
    "slideshow": {
     "slide_type": "fragment"
    }
   },
   "outputs": [
    {
     "name": "stdout",
     "output_type": "stream",
     "text": [
      "the return type of list comprehension is <class 'list'>\n",
      "the return type of map() is <class 'map'>\n"
     ]
    }
   ],
   "source": [
    "# list comprehension returns a list whereas map() returns an iterable\n",
    "print(f'the return type of list comprehension is {type(list_comprehension2)}')\n",
    "print(f'the return type of map() is {type(map4)}')"
   ]
  },
  {
   "cell_type": "code",
   "execution_count": 15,
   "metadata": {
    "slideshow": {
     "slide_type": "slide"
    }
   },
   "outputs": [
    {
     "name": "stdout",
     "output_type": "stream",
     "text": [
      " time list comprehension: 0.7447197919999979\n",
      " time map function with explicit function: 1.561381708999999\n",
      " time map function with lambda funcion: 1.6951418749999974\n"
     ]
    }
   ],
   "source": [
    "# note map function is generally slower than list comprehension because \n",
    "# if a list output is preferred, map() needs to take the extra step to turn the iterator object into a list\n",
    "# map() with explicit function would be faster than map() with lambda function\n",
    "\n",
    "import timeit \n",
    "# list comprehension \n",
    "l1 = timeit.timeit( '[ l for l in range(50)]' , number = 999999) \n",
    "print (f' time list comprehension: {l1}')  \n",
    "# map function \n",
    "f1= 'def num(n) : return n' \n",
    "m1 = timeit.timeit( 'list(map(num, range(50)))' , number = 999999, setup = f1 )  \n",
    "print (f' time map function with explicit function: {m1}') \n",
    "m2 = timeit.timeit( 'list(map(lambda x: x, range(50)))' , number = 999999)  \n",
    "print (f' time map function with lambda funcion: {m2}') "
   ]
  },
  {
   "cell_type": "markdown",
   "metadata": {
    "slideshow": {
     "slide_type": "slide"
    }
   },
   "source": [
    "#### map() with different types of iterable\n",
    "* Iterables are objects that can be iterated in iterations.\n",
    "* Iterable in Python: list, tuple, set, dictionary, string, etc\n",
    "* map() could take in iterables, like list, tuple, set, dictionary, string, etc"
   ]
  },
  {
   "cell_type": "code",
   "execution_count": 16,
   "metadata": {
    "slideshow": {
     "slide_type": "fragment"
    }
   },
   "outputs": [
    {
     "name": "stdout",
     "output_type": "stream",
     "text": [
      "['HI', 'HELLO']\n"
     ]
    }
   ],
   "source": [
    "# map with dictionary as input\n",
    "dict1={'hi': 1, 'hello': 2}\n",
    "map5=list(map(lambda x: x.upper(), dict1))\n",
    "print(map5)"
   ]
  },
  {
   "cell_type": "code",
   "execution_count": 17,
   "metadata": {
    "slideshow": {
     "slide_type": "fragment"
    }
   },
   "outputs": [
    {
     "name": "stdout",
     "output_type": "stream",
     "text": [
      "['A', 'B', 'C', 'D', 'E', 'F', 'G']\n"
     ]
    }
   ],
   "source": [
    "# map with string as input\n",
    "str1 = 'abcdefg'\n",
    "map6=list(map(lambda x: x.upper(), str1))\n",
    "print(map6)"
   ]
  },
  {
   "cell_type": "code",
   "execution_count": null,
   "metadata": {},
   "outputs": [],
   "source": []
  }
 ],
 "metadata": {
  "celltoolbar": "Slideshow",
  "colab": {
   "provenance": []
  },
  "kernelspec": {
   "display_name": "Python 3 (ipykernel)",
   "language": "python",
   "name": "python3"
  },
  "language_info": {
   "codemirror_mode": {
    "name": "ipython",
    "version": 3
   },
   "file_extension": ".py",
   "mimetype": "text/x-python",
   "name": "python",
   "nbconvert_exporter": "python",
   "pygments_lexer": "ipython3",
   "version": "3.8.18"
  },
  "toc": {
   "base_numbering": 1,
   "nav_menu": {},
   "number_sections": true,
   "sideBar": true,
   "skip_h1_title": false,
   "title_cell": "Table of Contents",
   "title_sidebar": "Contents",
   "toc_cell": false,
   "toc_position": {},
   "toc_section_display": true,
   "toc_window_display": false
  }
 },
 "nbformat": 4,
 "nbformat_minor": 1
}
