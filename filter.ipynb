{
 "cells": [
  {
   "cell_type": "markdown",
   "metadata": {},
   "source": [
    "### Table of Contents:\n",
    "* recap: iterable vs iterator\n",
    "* definition of filter function\n",
    "* `filter()` with different types of iterable\n",
    "* `filter()` with explicit function/lambda function\n",
    "* similarity/difference with list comprehension\n",
    "* similarity/difference with `map`\n",
    "* quiz"
   ]
  },
  {
   "cell_type": "markdown",
   "metadata": {},
   "source": [
    "#### What is an Iterable in Python?\n",
    "* an iterable is an object that you can iterate over\n",
    "* Eg. list, tuple, dictionary, set, string, etc\n",
    "* **can’t** use iterables as direct arguments to the `next()` function\n",
    "* in Python, the built-in function `iter()` can take in an iterable and return an iterator"
   ]
  },
  {
   "cell_type": "code",
   "execution_count": null,
   "metadata": {},
   "outputs": [
    {
     "ename": "TypeError",
     "evalue": "'list' object is not an iterator",
     "output_type": "error",
     "traceback": [
      "\u001b[0;31m---------------------------------------------------------------------------\u001b[0m\n",
      "\u001b[0;31mTypeError\u001b[0m                                 Traceback (most recent call last)\n",
      "\u001b[0;32m/var/folders/2b/n5wzgkg90_13_d3c5s41p4d00000gn/T/ipykernel_13462/1987190416.py\u001b[0m in \u001b[0;36m<module>\u001b[0;34m\u001b[0m\n",
      "\u001b[1;32m      1\u001b[0m \u001b[0;31m# can’t use iterables as direct arguments to the next() function\u001b[0m\u001b[0;34m\u001b[0m\u001b[0;34m\u001b[0m\u001b[0;34m\u001b[0m\u001b[0m\n",
      "\u001b[1;32m      2\u001b[0m \u001b[0miterable1\u001b[0m \u001b[0;34m=\u001b[0m \u001b[0;34m[\u001b[0m\u001b[0;36m1\u001b[0m\u001b[0;34m,\u001b[0m \u001b[0;36m2\u001b[0m\u001b[0;34m,\u001b[0m \u001b[0;36m3\u001b[0m\u001b[0;34m,\u001b[0m \u001b[0;36m4\u001b[0m\u001b[0;34m]\u001b[0m\u001b[0;34m\u001b[0m\u001b[0;34m\u001b[0m\u001b[0m\n",
      "\u001b[0;32m----> 3\u001b[0;31m \u001b[0mnext\u001b[0m\u001b[0;34m(\u001b[0m\u001b[0miterable1\u001b[0m\u001b[0;34m)\u001b[0m\u001b[0;34m\u001b[0m\u001b[0;34m\u001b[0m\u001b[0m\n",
      "\u001b[0m\n",
      "\u001b[0;31mTypeError\u001b[0m: 'list' object is not an iterator"
     ]
    }
   ],
   "source": [
    "# can’t use iterables as direct arguments to the next() function\n",
    "iterable1 = [1, 2, 3, 4]\n",
    "next(iterable1)"
   ]
  },
  {
   "cell_type": "code",
   "execution_count": null,
   "metadata": {},
   "outputs": [
    {
     "ename": "TypeError",
     "evalue": "'str' object is not an iterator",
     "output_type": "error",
     "traceback": [
      "\u001b[0;31m---------------------------------------------------------------------------\u001b[0m\n",
      "\u001b[0;31mTypeError\u001b[0m                                 Traceback (most recent call last)\n",
      "Cell \u001b[0;32mIn[8], line 3\u001b[0m\n",
      "\u001b[1;32m      1\u001b[0m \u001b[38;5;66;03m# can’t use iterables as direct arguments to the next() function\u001b[39;00m\n",
      "\u001b[1;32m      2\u001b[0m iterable2 \u001b[38;5;241m=\u001b[39m \u001b[38;5;124m\"\u001b[39m\u001b[38;5;124mABCD\u001b[39m\u001b[38;5;124m\"\u001b[39m\n",
      "\u001b[0;32m----> 3\u001b[0m \u001b[38;5;28;43mnext\u001b[39;49m\u001b[43m(\u001b[49m\u001b[43miterable2\u001b[49m\u001b[43m)\u001b[49m\n",
      "\n",
      "\u001b[0;31mTypeError\u001b[0m: 'str' object is not an iterator"
     ]
    }
   ],
   "source": [
    "# can’t use iterables as direct arguments to the next() function\n",
    "iterable2 = \"ABCD\"\n",
    "next(iterable2)"
   ]
  },
  {
   "cell_type": "markdown",
   "metadata": {},
   "source": [
    "* if you want a quick way to determine whether an object is iterable, then pass it as an argument to `iter()`. \n",
    "* If you get an iterator back, then your object is iterable. \n",
    "* If you get an error, then the object isn’t iterable"
   ]
  },
  {
   "cell_type": "code",
   "execution_count": null,
   "metadata": {},
   "outputs": [
    {
     "data": {
      "text/plain": [
       "<list_iterator at 0x1044b5400>"
      ]
     },
     "metadata": {},
     "output_type": "display_data"
    }
   ],
   "source": [
    "# in Python, the built-in function iter() can take in an iterable \n",
    "# and return an iterator\n",
    "iterable1 = [1, 2, 3, 4]\n",
    "iter(iterable1)"
   ]
  },
  {
   "cell_type": "code",
   "execution_count": null,
   "metadata": {},
   "outputs": [
    {
     "ename": "TypeError",
     "evalue": "'int' object is not iterable",
     "output_type": "error",
     "traceback": [
      "\u001b[0;31m---------------------------------------------------------------------------\u001b[0m\n",
      "\u001b[0;31mTypeError\u001b[0m                                 Traceback (most recent call last)\n",
      "Cell \u001b[0;32mIn[10], line 2\u001b[0m\n",
      "\u001b[1;32m      1\u001b[0m \u001b[38;5;66;03m# If you get an error, then the object isn’t iterable\u001b[39;00m\n",
      "\u001b[0;32m----> 2\u001b[0m \u001b[38;5;28;43miter\u001b[39;49m\u001b[43m(\u001b[49m\u001b[38;5;241;43m42\u001b[39;49m\u001b[43m)\u001b[49m\n",
      "\n",
      "\u001b[0;31mTypeError\u001b[0m: 'int' object is not iterable"
     ]
    }
   ],
   "source": [
    "# If you get an error, then the object isn’t iterable\n",
    "iter(42)"
   ]
  },
  {
   "cell_type": "markdown",
   "metadata": {},
   "source": [
    "#### What is an Iterator in Python?\n",
    "* **iterators** return the data from a stream or container **one item at a time**, compared to pure **iterables** typically holding the data\n",
    "* **iterators** are more efficient than **iterables** in terms of memory consumption"
   ]
  },
  {
   "cell_type": "markdown",
   "metadata": {},
   "source": [
    "| Feature                                      | Iterators | Iterables |\n",
    "|----------------------------------------------|-----------|-----------|\n",
    "| Can be used in for loops directly             | ✅        | ✅        |\n",
    "| Can be iterated over many times               | ❌        | ✅        |\n",
    "| Support the iter() function                   | ✅        | ✅        |\n",
    "| Support the next() function                   | ✅        | ❌        |\n",
    "| Optimize memory use                           | ✅        | ❌        |"
   ]
  },
  {
   "cell_type": "markdown",
   "metadata": {},
   "source": [
    "To learn more about iterator and iterables, check out [Iterators and Iterables in Python](https://realpython.com/python-iterators-iterables/)! Or check out the properties of `filter()` object below because `filter()` returns an iterator as well."
   ]
  },
  {
   "cell_type": "markdown",
   "metadata": {},
   "source": [
    "#### definition of filter function\n",
    "* takes in a function and one iterable\n",
    "* returns an iterator"
   ]
  },
  {
   "cell_type": "code",
   "execution_count": 8,
   "metadata": {},
   "outputs": [
    {
     "data": {
      "text/plain": [
       "<filter at 0x7f9bed419a50>"
      ]
     },
     "execution_count": 8,
     "metadata": {},
     "output_type": "execute_result"
    }
   ],
   "source": [
    "# sytax: filter(function, iterable) -> iterator\n",
    "lists = [[1, 2, 3], [4], [5, 6], [7, 8, 9, 10], [11], [12, 13]]\n",
    "filter_func = lambda x: len(x) >= 3\n",
    "filtered = filter(filter_func, lists)\n",
    "filtered"
   ]
  },
  {
   "cell_type": "code",
   "execution_count": 9,
   "metadata": {},
   "outputs": [
    {
     "name": "stdout",
     "output_type": "stream",
     "text": [
      "[1, 2, 3]\n",
      "[7, 8, 9, 10]\n"
     ]
    }
   ],
   "source": [
    "print(next(filtered)) # len([1, 2, 3]) >= 3\n",
    "print(next(filtered)) # len([7, 8, 9, 10]) >= 3"
   ]
  },
  {
   "cell_type": "code",
   "execution_count": 10,
   "metadata": {},
   "outputs": [
    {
     "ename": "StopIteration",
     "evalue": "",
     "output_type": "error",
     "traceback": [
      "\u001b[0;31m---------------------------------------------------------------------------\u001b[0m",
      "\u001b[0;31mStopIteration\u001b[0m                             Traceback (most recent call last)",
      "\u001b[0;32m/var/folders/2b/n5wzgkg90_13_d3c5s41p4d00000gn/T/ipykernel_47847/3364548723.py\u001b[0m in \u001b[0;36m<module>\u001b[0;34m\u001b[0m\n\u001b[0;32m----> 1\u001b[0;31m \u001b[0mnext\u001b[0m\u001b[0;34m(\u001b[0m\u001b[0mfiltered\u001b[0m\u001b[0;34m)\u001b[0m\u001b[0;34m\u001b[0m\u001b[0;34m\u001b[0m\u001b[0m\n\u001b[0m",
      "\u001b[0;31mStopIteration\u001b[0m: "
     ]
    }
   ],
   "source": [
    "next(filtered)"
   ]
  },
  {
   "cell_type": "code",
   "execution_count": 30,
   "metadata": {
    "tags": [
     "hide_cell"
    ]
   },
   "outputs": [],
   "source": [
    "# Animations\n",
    "import time\n",
    "from IPython.display import display, HTML, IFrame, clear_output\n",
    "import ipywidgets as widgets\n",
    "def show_filter_slides():\n",
    "    src = \"https://docs.google.com/presentation/d/e/2PACX-1vRW03f0T7fMcghL_LJXa6FkVnbog0CoVafK_udrxloHWOqPCavo_UFVvX9Yhn68FtCNS7ppttQwMtgA/embed?start=false&loop=false&delayms=3000\"\n",
    "    width = 960\n",
    "    height = 509\n",
    "    display(IFrame(src, width, height))"
   ]
  },
  {
   "cell_type": "code",
   "execution_count": 31,
   "metadata": {},
   "outputs": [
    {
     "data": {
      "text/html": [
       "\n",
       "        <iframe\n",
       "            width=\"960\"\n",
       "            height=\"509\"\n",
       "            src=\"https://docs.google.com/presentation/d/e/2PACX-1vRW03f0T7fMcghL_LJXa6FkVnbog0CoVafK_udrxloHWOqPCavo_UFVvX9Yhn68FtCNS7ppttQwMtgA/embed?start=false&loop=false&delayms=3000\"\n",
       "            frameborder=\"0\"\n",
       "            allowfullscreen\n",
       "        ></iframe>\n",
       "        "
      ],
      "text/plain": [
       "<IPython.lib.display.IFrame at 0x7ff235296f90>"
      ]
     },
     "metadata": {},
     "output_type": "display_data"
    }
   ],
   "source": [
    "show_filter_slides()"
   ]
  },
  {
   "cell_type": "code",
   "execution_count": 13,
   "metadata": {},
   "outputs": [
    {
     "name": "stdout",
     "output_type": "stream",
     "text": [
      "[[1, 2, 3], [7, 8, 9, 10]]\n"
     ]
    }
   ],
   "source": [
    "# it is important to notice that filter() returns an iterator\n",
    "filtered2 = filter(filter_func, lists)\n",
    "print(list(filtered2))"
   ]
  },
  {
   "cell_type": "markdown",
   "metadata": {},
   "source": [
    "#### filter() with different types of iterable\n",
    "* Iterables are objects that can be iterated in iterations.\n",
    "* Iterable in Python: list, tuple, set, dictionary, string, etc\n",
    "* filter() could take in iterables, like list, tuple, set, dictionary, string, etc"
   ]
  },
  {
   "cell_type": "code",
   "execution_count": null,
   "metadata": {},
   "outputs": [
    {
     "name": "stdout",
     "output_type": "stream",
     "text": [
      "['hi', 'hello']\n"
     ]
    }
   ],
   "source": [
    "# filter with dictionary as input\n",
    "dict1={'hi': 1, 'hello': 2}\n",
    "filtered=list(filter(lambda x: x[0] == \"h\", dict1))\n",
    "print(filtered)"
   ]
  },
  {
   "cell_type": "code",
   "execution_count": null,
   "metadata": {},
   "outputs": [
    {
     "name": "stdout",
     "output_type": "stream",
     "text": [
      "['a', 'b', 'c', 'd', 'e', 'f', 'g']\n"
     ]
    }
   ],
   "source": [
    "# filter with string as input\n",
    "str1 = 'abcdefg'\n",
    "filtered=list(filter(lambda x: x.isalpha(), str1))\n",
    "print(filtered)"
   ]
  },
  {
   "cell_type": "markdown",
   "metadata": {},
   "source": [
    "#### filter() with explicit function/lambda function\n",
    "* filter() could take in an explicit function or a lambda function"
   ]
  },
  {
   "cell_type": "code",
   "execution_count": 14,
   "metadata": {},
   "outputs": [
    {
     "name": "stdout",
     "output_type": "stream",
     "text": [
      "[[1, 2, 3], [7, 8, 9, 10]]\n"
     ]
    }
   ],
   "source": [
    "# lambda function\n",
    "filtered2 = filter(lambda x: len(x) >= 3, lists)\n",
    "print(list(filtered2))"
   ]
  },
  {
   "cell_type": "code",
   "execution_count": 16,
   "metadata": {},
   "outputs": [
    {
     "name": "stdout",
     "output_type": "stream",
     "text": [
      "[[1, 2, 3], [7, 8, 9, 10]]\n"
     ]
    }
   ],
   "source": [
    "# explicit function\n",
    "def filter_func2(lst):\n",
    "    if len(lst) >= 3:\n",
    "        return True\n",
    "    else:\n",
    "        return False\n",
    "    \n",
    "filtered2 = filter(filter_func2, lists)\n",
    "print(list(filtered2))"
   ]
  },
  {
   "cell_type": "markdown",
   "metadata": {},
   "source": [
    "#### similarity/difference with list comprehension/loops\n",
    "similarity: \n",
    "- select certain elements out of an iterable\n",
    "\n",
    "\n",
    "difference:\n",
    "- list comprehension returns a list whereas `filter()` returns an iterable\n",
    "- `filter()` with lambda function is slower than the list comprehension"
   ]
  },
  {
   "cell_type": "code",
   "execution_count": 17,
   "metadata": {},
   "outputs": [
    {
     "data": {
      "text/plain": [
       "[[1, 2, 3], [7, 8, 9, 10]]"
      ]
     },
     "execution_count": 17,
     "metadata": {},
     "output_type": "execute_result"
    }
   ],
   "source": [
    "# sytax for list comprehension: newList = [expression for item in iterable if condition] -> list\n",
    "list_comprehension = [lst for lst in lists if len(lst) >= 3]\n",
    "list_comprehension"
   ]
  },
  {
   "cell_type": "code",
   "execution_count": 18,
   "metadata": {},
   "outputs": [
    {
     "name": "stdout",
     "output_type": "stream",
     "text": [
      "the return type of list comprehension is <class 'list'>\n",
      "the return type of filter() is <class 'filter'>\n"
     ]
    }
   ],
   "source": [
    "# list comprehension returns a list whereas filter() returns an iterable\n",
    "print(f'the return type of list comprehension is {type(list_comprehension)}')\n",
    "print(f'the return type of filter() is {type(filtered)}')"
   ]
  },
  {
   "cell_type": "markdown",
   "metadata": {},
   "source": [
    "#### Memory Efficiency: `filter()` vs list comprehension\n",
    "* A list comprehension in Python works by loading the entire output list into memory.\n",
    "* `filter()` can perform lazy evaluation, which is better in terms of **memory efficiency**"
   ]
  },
  {
   "cell_type": "markdown",
   "metadata": {},
   "source": [
    "* if the data size is small, using list comprehension is fine\n",
    "* but if the size is big, your computer will crash!"
   ]
  },
  {
   "cell_type": "markdown",
   "metadata": {},
   "source": [
    "* `filter()` can perform **lazy evaluation**, which is better in terms of **memory efficiency**\n",
    "* the process keeps the memory small"
   ]
  },
  {
   "cell_type": "markdown",
   "metadata": {},
   "source": [
    "Therefore, iterators are the only way to process infinite data streams."
   ]
  },
  {
   "cell_type": "code",
   "execution_count": 3,
   "metadata": {},
   "outputs": [
    {
     "name": "stdout",
     "output_type": "stream",
     "text": [
      "filter memory: 64\n"
     ]
    }
   ],
   "source": [
    "import sys\n",
    "def square_filter(sequence):\n",
    "    return filter(lambda x: x > 2, sequence)\n",
    "\n",
    "numbers = [1, 2, 3, 4, 5]\n",
    "m1 = square_filter(numbers)\n",
    "print(f'filter memory: {sys.getsizeof(m1)}')"
   ]
  },
  {
   "cell_type": "markdown",
   "metadata": {},
   "source": [
    "Here is another example of the memory efficiency. In this example, \n",
    "* If you use `filter()`, aside from the input list, you will only need memory for a single square value at a time,\n",
    "* whereas list comprehension needs memory to store the resulting list"
   ]
  },
  {
   "cell_type": "code",
   "execution_count": 5,
   "metadata": {},
   "outputs": [
    {
     "name": "stdout",
     "output_type": "stream",
     "text": [
      "list comprehension memory: 104\n"
     ]
    }
   ],
   "source": [
    "def filter_odds(sequence):\n",
    "    return [num for num in sequence if num % 2 == 0]\n",
    "\n",
    "l1 = filter_odds(numbers)\n",
    "print(f'list comprehension memory: {sys.getsizeof(l1)}')"
   ]
  },
  {
   "cell_type": "markdown",
   "metadata": {},
   "source": [
    "#### Time Efficiency: `filter()` vs list comprehension\n",
    "* A list comprehension in Python works by loading the entire output list into memory.\n",
    "* `filter()` can perform lazy evaluation, which is better in terms of **memory efficiency**"
   ]
  },
  {
   "cell_type": "markdown",
   "metadata": {},
   "source": [
    "#### Time Efficiency:  `filter()` vs list comprehension\n",
    "* if we ignore the laziness of `filter()` and a list output is preferred, `filter()` needs to take the extra step to turn the iterator object into a list\n",
    "* note `filter()` with **lambda function** is generally **slower** than **list comprehension** in most cases, assuming all values are evaluated/used \n",
    "* `filter()` with **explicit function** would be **slower** than list comprehension if using a simple customer function where list comprehension could use a simple expression\n",
    "* however, `filter()` with **explicit function** would be **faster** than list comprehension if using a built-in function"
   ]
  },
  {
   "cell_type": "markdown",
   "metadata": {},
   "source": [
    "* note `filter()` with **lambda function** is generally **slower** than **list comprehension** in most cases, assuming all values are evaluated/used \n",
    "* `filter()` with **explicit function** would be **slower** than list comprehension if using a simple customer function where list comprehension could use a simple expression"
   ]
  },
  {
   "cell_type": "code",
   "execution_count": 7,
   "metadata": {},
   "outputs": [
    {
     "name": "stdout",
     "output_type": "stream",
     "text": [
      " time list comprehension: 2.533641497999998\n",
      " time filter function with explicit function: 5.483526134000002\n",
      " time filter function with lambda funcion: 5.531762186999998\n"
     ]
    }
   ],
   "source": [
    "# note filter function is generally slower than list comprehension because \n",
    "# if a list output is preferred, filter() needs to take the extra step to turn the iterator object into a list\n",
    "# filter() with explicit function would be faster than filter() with lambda function\n",
    "\n",
    "import timeit \n",
    "# list comprehension \n",
    "l1 = timeit.timeit( '[l for l in range(50) if l > 25]' , number = 999999) \n",
    "print (f' time list comprehension: {l1}')  \n",
    "# filter function \n",
    "f1= 'def num(n) : n > 25' \n",
    "m1 = timeit.timeit( 'list(filter(num, range(50)))' , number = 999999, setup = f1 )  \n",
    "print (f' time filter function with explicit function: {m1}') \n",
    "m2 = timeit.timeit( 'list(filter(lambda x: x > 25, range(50)))' , number = 999999)  \n",
    "print (f' time filter function with lambda funcion: {m2}') "
   ]
  },
  {
   "cell_type": "markdown",
   "metadata": {},
   "source": [
    "#### Similarities/differences between map() and filter()\n",
    "similarities: \n",
    "- both map and filter operate on iterables such as lists, tuples, strings, etc.\n",
    "- both map and filter return iterator objects\n",
    "\n",
    "differences:\n",
    "- map applies a function to each element in an iterable and returns an iterator with the results, filter applies a function to each element in an iterable and returns an iterator containing the elements for which the function evaluated to True\n",
    "- the function filter takes in must return True/False, while the function map takes in doesn't have any restrictions\n",
    "- map is used when you want to apply a specific function to all elements in an iterable and get the transformed elements\n",
    "- filter is used when you want to selectively extract elements from an iterable based on a condition specified in the function"
   ]
  },
  {
   "cell_type": "markdown",
   "metadata": {},
   "source": [
    "#### Quiz\n",
    "Try the below quizzes to test your understanding!"
   ]
  },
  {
   "cell_type": "markdown",
   "metadata": {},
   "source": [
    "1. For each of the code snippets, choose the big-O complexity that is the exact bound. If none of them work, choose ’None of the above’.\n",
    "\n",
    "i. Where **n** is the length of **lst** :\n",
    "```python\n",
    "def had(lst):\n",
    "     return [i for i in filter(lambda x: x % 2 == 0, lst)]\n",
    "```\n",
    "- O($n$)\n",
    "- O($n^2$)\n",
    "- O($\\log n$)\n",
    "- O($1$)\n",
    "- None of the above\n",
    "\n",
    "ii. Write the equivalent function body using only filter and lambda in just one line of code :\n",
    "```python\n",
    "def is_all_less_than (lst_of_pair):\n",
    "    \"\"\"\n",
    "    >>> is_all_less_than([(1, -1), (2, 3), (1, 1)])\n",
    "    False\n",
    "    >>> is_all_less_than([(1, 2), (2, 3), (1, 1)])\n",
    "    False\n",
    "    >>> is all_less_than([(1, 2), (2, 3), (1, 2)])\n",
    "    True\n",
    "    \"\"\"\n",
    "      for pair in list_of_pair:\n",
    "         if pair[0] >= pair[1]:\n",
    "            return False\n",
    "      return True\n",
    "```"
   ]
  },
  {
   "cell_type": "code",
   "execution_count": 11,
   "metadata": {
    "tags": [
     "hide_cell"
    ]
   },
   "outputs": [],
   "source": [
    "from IPython.display import HTML, Javascript, display\n",
    "\n",
    "# Create a button and a Markdown cell\n",
    "button_html = \"\"\"\n",
    "<button onclick=\"toggle_visibility('markdown_cell')\">Click to view the solution</button>\n",
    "\"\"\"\n",
    "\n",
    "markdown_cell = \"\"\"\n",
    "<div id=\"markdown_cell\" style=\"display:none;\">\n",
    "i. O($n$)\n",
    "\n",
    "ii. return all(filter(lambda x: x[0] < x[1], lst_of_pairs))\n",
    "</div>\n",
    "\"\"\"\n",
    "\n",
    "# JavaScript to toggle visibility\n",
    "toggle_script = \"\"\"\n",
    "<script>\n",
    "    function toggle_visibility(id) {\n",
    "        var element = document.getElementById(id);\n",
    "        if (element.style.display == 'none') {\n",
    "            element.style.display = 'block';\n",
    "        } else {\n",
    "            element.style.display = 'none';\n",
    "        }\n",
    "    }\n",
    "</script>\n",
    "\"\"\""
   ]
  },
  {
   "cell_type": "code",
   "execution_count": 12,
   "metadata": {},
   "outputs": [
    {
     "data": {
      "text/html": [
       "\n",
       "<button onclick=\"toggle_visibility('markdown_cell')\">Click to view the solution</button>\n"
      ],
      "text/plain": [
       "<IPython.core.display.HTML object>"
      ]
     },
     "metadata": {},
     "output_type": "display_data"
    },
    {
     "data": {
      "text/html": [
       "\n",
       "<div id=\"markdown_cell\" style=\"display:none;\">\n",
       "i. O($n$)\n",
       "\n",
       "ii. return all(filter(lambda x: x[0] < x[1], lst_of_pairs))\n",
       "</div>\n"
      ],
      "text/plain": [
       "<IPython.core.display.HTML object>"
      ]
     },
     "metadata": {},
     "output_type": "display_data"
    },
    {
     "data": {
      "text/html": [
       "\n",
       "<script>\n",
       "    function toggle_visibility(id) {\n",
       "        var element = document.getElementById(id);\n",
       "        if (element.style.display == 'none') {\n",
       "            element.style.display = 'block';\n",
       "        } else {\n",
       "            element.style.display = 'none';\n",
       "        }\n",
       "    }\n",
       "</script>\n"
      ],
      "text/plain": [
       "<IPython.core.display.HTML object>"
      ]
     },
     "metadata": {},
     "output_type": "display_data"
    }
   ],
   "source": [
    "# Display the button and Markdown cell\n",
    "display(HTML(button_html))\n",
    "display(HTML(markdown_cell))\n",
    "# Display the JavaScript\n",
    "display(HTML(toggle_script))"
   ]
  },
  {
   "cell_type": "code",
   "execution_count": 1,
   "metadata": {
    "tags": [
     "hide_cell"
    ]
   },
   "outputs": [
    {
     "name": "stdout",
     "output_type": "stream",
     "text": [
      "[NbConvertApp] Converting notebook filter.ipynb to html\n",
      "[NbConvertApp] Writing 324695 bytes to filter.html\n"
     ]
    }
   ],
   "source": [
    "!jupyter nbconvert --to html --TagRemovePreprocessor.remove_cell_tags='{\"hide_cell\"}' filter.ipynb"
   ]
  }
 ],
 "metadata": {
  "celltoolbar": "Tags",
  "colab": {
   "provenance": []
  },
  "kernelspec": {
   "display_name": "Python 3 (ipykernel)",
   "language": "python",
   "name": "python3"
  },
  "language_info": {
   "codemirror_mode": {
    "name": "ipython",
    "version": 3
   },
   "file_extension": ".py",
   "mimetype": "text/x-python",
   "name": "python",
   "nbconvert_exporter": "python",
   "pygments_lexer": "ipython3",
   "version": "3.8.18"
  },
  "toc": {
   "base_numbering": 1,
   "nav_menu": {},
   "number_sections": true,
   "sideBar": true,
   "skip_h1_title": false,
   "title_cell": "Table of Contents",
   "title_sidebar": "Contents",
   "toc_cell": false,
   "toc_position": {},
   "toc_section_display": true,
   "toc_window_display": false
  }
 },
 "nbformat": 4,
 "nbformat_minor": 1
}
