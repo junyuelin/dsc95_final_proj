{
 "cells": [
  {
   "cell_type": "markdown",
   "metadata": {},
   "source": [
    "### Filter Function:\n",
    "* definition of filter function\n",
    "* filter() with explicit function/lambda function\n",
    "* filter() with different types of iterable\n",
    "* similarity/difference with list comprehension/loops"
   ]
  },
  {
   "cell_type": "markdown",
   "metadata": {},
   "source": [
    "#### definition of filter function\n",
    "* takes in a function and one iterable\n",
    "* returns an iterator"
   ]
  },
  {
   "cell_type": "code",
   "execution_count": 8,
   "metadata": {},
   "outputs": [
    {
     "data": {
      "text/plain": [
       "<filter at 0x7f9bed419a50>"
      ]
     },
     "execution_count": 8,
     "metadata": {},
     "output_type": "execute_result"
    }
   ],
   "source": [
    "# sytax: filter(function, iterable) -> iterator\n",
    "lists = [[1, 2, 3], [4], [5, 6], [7, 8, 9, 10], [11], [12, 13]]\n",
    "filter_func = lambda x: len(x) >= 3\n",
    "filtered = filter(filter_func, lists)\n",
    "filtered"
   ]
  },
  {
   "cell_type": "code",
   "execution_count": 9,
   "metadata": {},
   "outputs": [
    {
     "name": "stdout",
     "output_type": "stream",
     "text": [
      "[1, 2, 3]\n",
      "[7, 8, 9, 10]\n"
     ]
    }
   ],
   "source": [
    "print(next(filtered)) # len([1, 2, 3]) >= 3\n",
    "print(next(filtered)) # len([7, 8, 9, 10]) >= 3"
   ]
  },
  {
   "cell_type": "code",
   "execution_count": 10,
   "metadata": {},
   "outputs": [
    {
     "ename": "StopIteration",
     "evalue": "",
     "output_type": "error",
     "traceback": [
      "\u001b[0;31m---------------------------------------------------------------------------\u001b[0m",
      "\u001b[0;31mStopIteration\u001b[0m                             Traceback (most recent call last)",
      "\u001b[0;32m/var/folders/2b/n5wzgkg90_13_d3c5s41p4d00000gn/T/ipykernel_47847/3364548723.py\u001b[0m in \u001b[0;36m<module>\u001b[0;34m\u001b[0m\n\u001b[0;32m----> 1\u001b[0;31m \u001b[0mnext\u001b[0m\u001b[0;34m(\u001b[0m\u001b[0mfiltered\u001b[0m\u001b[0;34m)\u001b[0m\u001b[0;34m\u001b[0m\u001b[0;34m\u001b[0m\u001b[0m\n\u001b[0m",
      "\u001b[0;31mStopIteration\u001b[0m: "
     ]
    }
   ],
   "source": [
    "next(filtered)"
   ]
  },
  {
   "cell_type": "code",
   "execution_count": 11,
   "metadata": {},
   "outputs": [],
   "source": [
    "# Animations\n",
    "import time\n",
    "from IPython.display import display, HTML, IFrame, clear_output\n",
    "import ipywidgets as widgets\n",
    "def show_filter_slides():\n",
    "    src = \"https://docs.google.com/presentation/d/e/2PACX-1vRW03f0T7fMcghL_LJXa6FkVnbog0CoVafK_udrxloHWOqPCavo_UFVvX9Yhn68FtCNS7ppttQwMtgA/pub?start=true&loop=false&delayms=3000\"\n",
    "    width = 960\n",
    "    height = 509\n",
    "    display(IFrame(src, width, height))"
   ]
  },
  {
   "cell_type": "code",
   "execution_count": 12,
   "metadata": {},
   "outputs": [
    {
     "data": {
      "text/html": [
       "\n",
       "        <iframe\n",
       "            width=\"960\"\n",
       "            height=\"509\"\n",
       "            src=\"https://docs.google.com/presentation/d/e/2PACX-1vRW03f0T7fMcghL_LJXa6FkVnbog0CoVafK_udrxloHWOqPCavo_UFVvX9Yhn68FtCNS7ppttQwMtgA/pub?start=true&loop=false&delayms=3000\"\n",
       "            frameborder=\"0\"\n",
       "            allowfullscreen\n",
       "        ></iframe>\n",
       "        "
      ],
      "text/plain": [
       "<IPython.lib.display.IFrame at 0x7f9bed421290>"
      ]
     },
     "metadata": {},
     "output_type": "display_data"
    }
   ],
   "source": [
    "show_filter_slides()"
   ]
  },
  {
   "cell_type": "code",
   "execution_count": 13,
   "metadata": {},
   "outputs": [
    {
     "name": "stdout",
     "output_type": "stream",
     "text": [
      "[[1, 2, 3], [7, 8, 9, 10]]\n"
     ]
    }
   ],
   "source": [
    "# it is important to notice that filter() returns an iterator\n",
    "filtered2 = filter(filter_func, lists)\n",
    "print(list(filtered2))"
   ]
  },
  {
   "cell_type": "markdown",
   "metadata": {},
   "source": [
    "#### filter() with explicit function/lambda function\n",
    "* filter() could take in an explicit function or a lambda function"
   ]
  },
  {
   "cell_type": "code",
   "execution_count": 14,
   "metadata": {},
   "outputs": [
    {
     "name": "stdout",
     "output_type": "stream",
     "text": [
      "[[1, 2, 3], [7, 8, 9, 10]]\n"
     ]
    }
   ],
   "source": [
    "# lambda function\n",
    "filtered2 = filter(lambda x: len(x) >= 3, lists)\n",
    "print(list(filtered2))"
   ]
  },
  {
   "cell_type": "code",
   "execution_count": 16,
   "metadata": {},
   "outputs": [
    {
     "name": "stdout",
     "output_type": "stream",
     "text": [
      "[[1, 2, 3], [7, 8, 9, 10]]\n"
     ]
    }
   ],
   "source": [
    "# explicit function\n",
    "def filter_func2(lst):\n",
    "    if len(lst) >= 3:\n",
    "        return True\n",
    "    else:\n",
    "        return False\n",
    "    \n",
    "filtered2 = filter(filter_func2, lists)\n",
    "print(list(filtered2))"
   ]
  },
  {
   "cell_type": "markdown",
   "metadata": {},
   "source": [
    "#### similarity/difference with list comprehension/loops\n",
    "similarity: \n",
    "- select certain elements out of an iterable\n",
    "\n",
    "\n",
    "difference:\n",
    "- list comprehension returns a list whereas filter() returns an iterable\n",
    "- filter function is slower than the list comprehension in general"
   ]
  },
  {
   "cell_type": "code",
   "execution_count": 17,
   "metadata": {},
   "outputs": [
    {
     "data": {
      "text/plain": [
       "[[1, 2, 3], [7, 8, 9, 10]]"
      ]
     },
     "execution_count": 17,
     "metadata": {},
     "output_type": "execute_result"
    }
   ],
   "source": [
    "# sytax for list comprehension: newList = [expression for item in iterable if condition] -> list\n",
    "list_comprehension = [lst for lst in lists if len(lst) >= 3]\n",
    "list_comprehension"
   ]
  },
  {
   "cell_type": "code",
   "execution_count": 18,
   "metadata": {},
   "outputs": [
    {
     "name": "stdout",
     "output_type": "stream",
     "text": [
      "the return type of list comprehension is <class 'list'>\n",
      "the return type of filter() is <class 'filter'>\n"
     ]
    }
   ],
   "source": [
    "# list comprehension returns a list whereas filter() returns an iterable\n",
    "print(f'the return type of list comprehension is {type(list_comprehension)}')\n",
    "print(f'the return type of filter() is {type(filtered)}')"
   ]
  },
  {
   "cell_type": "code",
   "execution_count": 7,
   "metadata": {},
   "outputs": [
    {
     "name": "stdout",
     "output_type": "stream",
     "text": [
      " time list comprehension: 2.533641497999998\n",
      " time filter function with explicit function: 5.483526134000002\n",
      " time filter function with lambda funcion: 5.531762186999998\n"
     ]
    }
   ],
   "source": [
    "# note filter function is generally slower than list comprehension because \n",
    "# if a list output is preferred, filter() needs to take the extra step to turn the iterator object into a list\n",
    "# filter() with explicit function would be faster than filter() with lambda function\n",
    "\n",
    "import timeit \n",
    "# list comprehension \n",
    "l1 = timeit.timeit( '[l for l in range(50) if l > 25]' , number = 999999) \n",
    "print (f' time list comprehension: {l1}')  \n",
    "# filter function \n",
    "f1= 'def num(n) : n > 25' \n",
    "m1 = timeit.timeit( 'list(filter(num, range(50)))' , number = 999999, setup = f1 )  \n",
    "print (f' time filter function with explicit function: {m1}') \n",
    "m2 = timeit.timeit( 'list(filter(lambda x: x > 25, range(50)))' , number = 999999)  \n",
    "print (f' time filter function with lambda funcion: {m2}') "
   ]
  },
  {
   "cell_type": "markdown",
   "metadata": {},
   "source": [
    "#### filter() with different types of iterable\n",
    "* Iterables are objects that can be iterated in iterations.\n",
    "* Iterable in Python: list, tuple, set, dictionary, string, etc\n",
    "* filter() could take in iterables, like list, tuple, set, dictionary, string, etc"
   ]
  },
  {
   "cell_type": "code",
   "execution_count": 19,
   "metadata": {},
   "outputs": [
    {
     "name": "stdout",
     "output_type": "stream",
     "text": [
      "['hi', 'hello']\n"
     ]
    }
   ],
   "source": [
    "# filter with dictionary as input\n",
    "dict1={'hi': 1, 'hello': 2}\n",
    "filtered=list(filter(lambda x: x[0] == \"h\", dict1))\n",
    "print(filtered)"
   ]
  },
  {
   "cell_type": "code",
   "execution_count": 20,
   "metadata": {},
   "outputs": [
    {
     "name": "stdout",
     "output_type": "stream",
     "text": [
      "['a', 'b', 'c', 'd', 'e', 'f', 'g']\n"
     ]
    }
   ],
   "source": [
    "# filter with string as input\n",
    "str1 = 'abcdefg'\n",
    "filtered=list(filter(lambda x: x.isalpha(), str1))\n",
    "print(filtered)"
   ]
  }
 ],
 "metadata": {
  "celltoolbar": "Slideshow",
  "colab": {
   "provenance": []
  },
  "kernelspec": {
   "display_name": "Python 3 (ipykernel)",
   "language": "python",
   "name": "python3"
  },
  "language_info": {
   "codemirror_mode": {
    "name": "ipython",
    "version": 3
   },
   "file_extension": ".py",
   "mimetype": "text/x-python",
   "name": "python",
   "nbconvert_exporter": "python",
   "pygments_lexer": "ipython3",
   "version": "3.7.4"
  },
  "toc": {
   "base_numbering": 1,
   "nav_menu": {},
   "number_sections": true,
   "sideBar": true,
   "skip_h1_title": false,
   "title_cell": "Table of Contents",
   "title_sidebar": "Contents",
   "toc_cell": false,
   "toc_position": {},
   "toc_section_display": true,
   "toc_window_display": false
  }
 },
 "nbformat": 4,
 "nbformat_minor": 1
}
